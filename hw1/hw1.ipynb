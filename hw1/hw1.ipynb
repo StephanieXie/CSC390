{
 "cells": [
  {
   "cell_type": "code",
   "execution_count": null,
   "metadata": {
    "collapsed": true
   },
   "outputs": [],
   "source": [
    "\"\"\"\n",
    "Stephanie Xie\n",
    "09/25/2017\n",
    "CSC 350\n",
    "\n",
    "Collaborators: Emma Stephenson, Zainab Aqdas, Eleanor Ewing\n",
    "\n",
    "\"\"\"\n",
    "import matplotlib.pyplot as plt\n",
    "import pandas as pd\n",
    "\n",
    "\n",
    "def get_data_from_csv(csv):\n",
    "    raw_data = pd.read_csv(csv)\n",
    "    return raw_data\n",
    "\n",
    "\n",
    "def fill_with_mean(raw_data):\n",
    "    data = raw_data.copy()\n",
    "    return data.fillna(data.mean())\n",
    "\n",
    "\n",
    "def fill_with_zero(raw_data):\n",
    "    data = raw_data.copy()\n",
    "    return data.fillna(0)\n",
    "\n",
    "\n",
    "def main():\n",
    "    complete_data = get_data_from_csv(\"Wholesale customers data.csv\")\n",
    "    missing_data = get_data_from_csv(\"Wholesale customers data-missing.csv\")\n",
    "    mean = fill_with_mean(missing_data)\n",
    "    zero = fill_with_zero(missing_data)\n",
    "\n",
    "    # Comparing only two fields for easier visualization\n",
    "    plt.figure()\n",
    "    plt.xlabel('Fresh')\n",
    "    plt.ylabel('Frozen')\n",
    "    plt.scatter(complete_data['Fresh'], complete_data['Frozen'], color='Red')\n",
    "    plt.scatter(mean['Fresh'], mean['Frozen'], color='Green')\n",
    "    plt.scatter(zero['Fresh'], zero['Frozen'], color='Yellow')\n",
    "    plt.show()\n",
    "\n",
    "\n",
    "if __name__ == '__main__':\n",
    "    main()"
   ]
  }
 ],
 "metadata": {
  "kernelspec": {
   "display_name": "Python 2",
   "language": "python",
   "name": "python2"
  },
  "language_info": {
   "codemirror_mode": {
    "name": "ipython",
    "version": 2
   },
   "file_extension": ".py",
   "mimetype": "text/x-python",
   "name": "python",
   "nbconvert_exporter": "python",
   "pygments_lexer": "ipython2",
   "version": "2.7.13"
  }
 },
 "nbformat": 4,
 "nbformat_minor": 2
}
